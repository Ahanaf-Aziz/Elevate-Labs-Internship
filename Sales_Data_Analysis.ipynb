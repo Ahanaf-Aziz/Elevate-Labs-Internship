{
 "cells": [
  {
   "cell_type": "markdown",
   "metadata": {},
   "source": [
    "# Sales Data Analysis with Pandas\n",
    "\n",
    "**Objective:** Analyze sales data from CSV using Pandas and visualize insights."
   ]
  },
  {
   "cell_type": "code",
   "metadata": {},
   "source": [
    "# 1. Load CSV using Pandas\n",
    "import pandas as pd\n",
    "\n",
    "# Change 'sales.csv' to your file name\n",
    "df = pd.read_csv('sales.csv')\n",
    "df.head()"
   ],
   "execution_count": null,
   "outputs": []
  },
  {
   "cell_type": "code",
   "metadata": {},
   "source": [
    "# 2. Group by Product and Region, Sum Sales\n",
    "product_sales = df.groupby('Product')['Sales'].sum()\n",
    "region_sales = df.groupby('Region')['Sales'].sum()\n",
    "print('Sales by Product:')\n",
    "print(product_sales)\n",
    "\n",
    "print('\\nSales by Region:')\n",
    "print(region_sales)"
   ],
   "execution_count": null,
   "outputs": []
  },
  {
   "cell_type": "code",
   "metadata": {},
   "source": [
    "# 3. Plot Charts\n",
    "import matplotlib.pyplot as plt\n",
    "\n",
    "# Bar chart: Sales by Product\n",
    "product_sales.plot(kind='bar', title='Total Sales by Product')\n",
    "plt.xlabel('Product')\n",
    "plt.ylabel('Total Sales')\n",
    "plt.show()\n",
    "\n",
    "# Pie chart: Sales by Region\n",
    "region_sales.plot(kind='pie', title='Sales Distribution by Region', autopct='%1.1f%%')\n",
    "plt.ylabel('')\n",
    "plt.show()"
   ],
   "execution_count": null,
   "outputs": []
  },
  {
   "cell_type": "code",
   "metadata": {},
   "source": [
    "# 4. Basic Insights\n",
    "print('Best selling product:', product_sales.idxmax(), 'with sales:', product_sales.max())\n",
    "print('Least selling product:', product_sales.idxmin(), 'with sales:', product_sales.min())\n",
    "print('Region with highest sales:', region_sales.idxmax(), 'with sales:', region_sales.max())"
   ],
   "execution_count": null,
   "outputs": []
  }
 ],
 "metadata": {
  "kernelspec": {
   "display_name": "Python 3",
   "language": "python",
   "name": "python3"
  },
  "language_info": {
   "name": "python",
   "version": ""
  }
 },
 "nbformat": 4,
 "nbformat_minor": 2
}
